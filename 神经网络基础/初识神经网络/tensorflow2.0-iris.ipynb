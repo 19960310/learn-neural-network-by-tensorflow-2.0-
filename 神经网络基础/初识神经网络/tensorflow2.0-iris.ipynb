{
 "cells": [
  {
   "cell_type": "code",
   "execution_count": 1,
   "metadata": {},
   "outputs": [
    {
     "name": "stderr",
     "output_type": "stream",
     "text": [
      "C:\\Users\\13936\\Anaconda3\\lib\\site-packages\\h5py\\__init__.py:36: FutureWarning: Conversion of the second argument of issubdtype from `float` to `np.floating` is deprecated. In future, it will be treated as `np.float64 == np.dtype(float).type`.\n",
      "  from ._conv import register_converters as _register_converters\n"
     ]
    }
   ],
   "source": [
    "import numpy as np\n",
    "import matplotlib as mpl\n",
    "import matplotlib.pyplot as plt\n",
    "import pandas as pd\n",
    "import warnings\n",
    "\n",
    "from sklearn.model_selection import train_test_split\n",
    "import tensorflow as tf"
   ]
  },
  {
   "cell_type": "code",
   "execution_count": 2,
   "metadata": {},
   "outputs": [],
   "source": [
    "warnings.filterwarnings('ignore')\n",
    "plt.rcParams['figure.facecolor'] = 'w'"
   ]
  },
  {
   "cell_type": "code",
   "execution_count": 29,
   "metadata": {},
   "outputs": [
    {
     "data": {
      "text/html": [
       "<div>\n",
       "<style scoped>\n",
       "    .dataframe tbody tr th:only-of-type {\n",
       "        vertical-align: middle;\n",
       "    }\n",
       "\n",
       "    .dataframe tbody tr th {\n",
       "        vertical-align: top;\n",
       "    }\n",
       "\n",
       "    .dataframe thead th {\n",
       "        text-align: right;\n",
       "    }\n",
       "</style>\n",
       "<table border=\"1\" class=\"dataframe\">\n",
       "  <thead>\n",
       "    <tr style=\"text-align: right;\">\n",
       "      <th></th>\n",
       "      <th>sepal length</th>\n",
       "      <th>sepal width</th>\n",
       "      <th>petal length</th>\n",
       "      <th>petal width</th>\n",
       "      <th>cla</th>\n",
       "    </tr>\n",
       "  </thead>\n",
       "  <tbody>\n",
       "    <tr>\n",
       "      <th>0</th>\n",
       "      <td>5.1</td>\n",
       "      <td>3.5</td>\n",
       "      <td>1.4</td>\n",
       "      <td>0.2</td>\n",
       "      <td>Iris-setosa</td>\n",
       "    </tr>\n",
       "    <tr>\n",
       "      <th>1</th>\n",
       "      <td>4.9</td>\n",
       "      <td>3.0</td>\n",
       "      <td>1.4</td>\n",
       "      <td>0.2</td>\n",
       "      <td>Iris-setosa</td>\n",
       "    </tr>\n",
       "    <tr>\n",
       "      <th>148</th>\n",
       "      <td>6.2</td>\n",
       "      <td>3.4</td>\n",
       "      <td>5.4</td>\n",
       "      <td>2.3</td>\n",
       "      <td>Iris-virginica</td>\n",
       "    </tr>\n",
       "    <tr>\n",
       "      <th>149</th>\n",
       "      <td>5.9</td>\n",
       "      <td>3.0</td>\n",
       "      <td>5.1</td>\n",
       "      <td>1.8</td>\n",
       "      <td>Iris-virginica</td>\n",
       "    </tr>\n",
       "  </tbody>\n",
       "</table>\n",
       "</div>"
      ],
      "text/plain": [
       "     sepal length  sepal width  petal length  petal width             cla\n",
       "0             5.1          3.5           1.4          0.2     Iris-setosa\n",
       "1             4.9          3.0           1.4          0.2     Iris-setosa\n",
       "148           6.2          3.4           5.4          2.3  Iris-virginica\n",
       "149           5.9          3.0           5.1          1.8  Iris-virginica"
      ]
     },
     "execution_count": 29,
     "metadata": {},
     "output_type": "execute_result"
    }
   ],
   "source": [
    "## 数据加载\n",
    "path = \"datas/iris.data\"\n",
    "names = ['sepal length', 'sepal width', 'petal length', 'petal width', 'cla']\n",
    "df = pd.read_csv(path, header=None, names=names)\n",
    "df.head(2).append(df.tail(2))"
   ]
  },
  {
   "cell_type": "code",
   "execution_count": 30,
   "metadata": {},
   "outputs": [
    {
     "data": {
      "text/plain": [
       "Iris-versicolor    50\n",
       "Iris-setosa        50\n",
       "Iris-virginica     50\n",
       "Name: cla, dtype: int64"
      ]
     },
     "execution_count": 30,
     "metadata": {},
     "output_type": "execute_result"
    }
   ],
   "source": [
    "df['cla'].value_counts() # 三类 ，每类50个"
   ]
  },
  {
   "cell_type": "code",
   "execution_count": 31,
   "metadata": {},
   "outputs": [],
   "source": [
    "from sklearn import preprocessing\n",
    "\n",
    "le = preprocessing.LabelEncoder()\n",
    "df['cla'] = le.fit_transform(df['cla'])"
   ]
  },
  {
   "cell_type": "code",
   "execution_count": 32,
   "metadata": {},
   "outputs": [],
   "source": [
    "labels = df.pop('cla')"
   ]
  },
  {
   "cell_type": "code",
   "execution_count": 48,
   "metadata": {},
   "outputs": [],
   "source": [
    "x_train, x_valid, y_train, y_valid = train_test_split(df, labels, test_size=0.2, random_state=1996)"
   ]
  },
  {
   "cell_type": "code",
   "execution_count": 49,
   "metadata": {},
   "outputs": [],
   "source": [
    "train_data = tf.data.Dataset.from_tensor_slices((x_train.values, y_train.values))\n",
    "valid_data = tf.data.Dataset.from_tensor_slices((x_valid.values, y_valid.values))"
   ]
  },
  {
   "cell_type": "code",
   "execution_count": 50,
   "metadata": {},
   "outputs": [],
   "source": [
    "train_data = train_data.shuffle(len(x_train)).batch(1)\n",
    "valid_data = valid_data.batch(1)"
   ]
  },
  {
   "cell_type": "code",
   "execution_count": 73,
   "metadata": {},
   "outputs": [],
   "source": [
    "base_model = tf.keras.Sequential([\n",
    "    tf.keras.layers.Dense(16, activation='relu', input_shape=(df.shape[1], )),\n",
    "    tf.keras.layers.Dense(16, activation='relu'), \n",
    "    tf.keras.layers.Dense(3, activation='softmax')\n",
    "])"
   ]
  },
  {
   "cell_type": "code",
   "execution_count": 74,
   "metadata": {},
   "outputs": [],
   "source": [
    "base_model.compile(\n",
    "    optimizer = tf.keras.optimizers.Adam(),\n",
    "    loss = tf.keras.losses.SparseCategoricalCrossentropy(),\n",
    "    metrics = [tf.keras.metrics.SparseCategoricalAccuracy()]\n",
    ")"
   ]
  },
  {
   "cell_type": "code",
   "execution_count": 75,
   "metadata": {},
   "outputs": [
    {
     "name": "stdout",
     "output_type": "stream",
     "text": [
      "Model: \"sequential_6\"\n",
      "_________________________________________________________________\n",
      "Layer (type)                 Output Shape              Param #   \n",
      "=================================================================\n",
      "dense_18 (Dense)             (None, 16)                80        \n",
      "_________________________________________________________________\n",
      "dense_19 (Dense)             (None, 16)                272       \n",
      "_________________________________________________________________\n",
      "dense_20 (Dense)             (None, 3)                 51        \n",
      "=================================================================\n",
      "Total params: 403\n",
      "Trainable params: 403\n",
      "Non-trainable params: 0\n",
      "_________________________________________________________________\n"
     ]
    }
   ],
   "source": [
    "base_model.summary()"
   ]
  },
  {
   "cell_type": "code",
   "execution_count": 76,
   "metadata": {},
   "outputs": [
    {
     "name": "stdout",
     "output_type": "stream",
     "text": [
      "Epoch 1/20\n",
      "120/120 [==============================] - 1s 8ms/step - loss: 1.2763 - sparse_categorical_accuracy: 0.4000 - val_loss: 0.0000e+00 - val_sparse_categorical_accuracy: 0.0000e+00\n",
      "Epoch 2/20\n",
      "120/120 [==============================] - 0s 4ms/step - loss: 0.7682 - sparse_categorical_accuracy: 0.8000 - val_loss: 0.6501 - val_sparse_categorical_accuracy: 0.8333\n",
      "Epoch 3/20\n",
      "120/120 [==============================] - 0s 3ms/step - loss: 0.5920 - sparse_categorical_accuracy: 0.8333 - val_loss: 0.4649 - val_sparse_categorical_accuracy: 0.8333\n",
      "Epoch 4/20\n",
      "120/120 [==============================] - 0s 3ms/step - loss: 0.4607 - sparse_categorical_accuracy: 0.8667 - val_loss: 0.3768 - val_sparse_categorical_accuracy: 0.9333\n",
      "Epoch 5/20\n",
      "120/120 [==============================] - 0s 4ms/step - loss: 0.3535 - sparse_categorical_accuracy: 0.9250 - val_loss: 0.3255 - val_sparse_categorical_accuracy: 0.8667\n",
      "Epoch 6/20\n",
      "120/120 [==============================] - 0s 4ms/step - loss: 0.3113 - sparse_categorical_accuracy: 0.9500 - val_loss: 0.3171 - val_sparse_categorical_accuracy: 0.8333\n",
      "Epoch 7/20\n",
      "120/120 [==============================] - 0s 3ms/step - loss: 0.2798 - sparse_categorical_accuracy: 0.9583 - val_loss: 0.2633 - val_sparse_categorical_accuracy: 0.9667\n",
      "Epoch 8/20\n",
      "120/120 [==============================] - 0s 4ms/step - loss: 0.2447 - sparse_categorical_accuracy: 0.9417 - val_loss: 0.2632 - val_sparse_categorical_accuracy: 0.9000\n",
      "Epoch 9/20\n",
      "120/120 [==============================] - 0s 3ms/step - loss: 0.2358 - sparse_categorical_accuracy: 0.9250 - val_loss: 0.2245 - val_sparse_categorical_accuracy: 0.9667\n",
      "Epoch 10/20\n",
      "120/120 [==============================] - 0s 4ms/step - loss: 0.2021 - sparse_categorical_accuracy: 0.9833 - val_loss: 0.2253 - val_sparse_categorical_accuracy: 0.9333\n",
      "Epoch 11/20\n",
      "120/120 [==============================] - 0s 4ms/step - loss: 0.1882 - sparse_categorical_accuracy: 0.9750 - val_loss: 0.1995 - val_sparse_categorical_accuracy: 0.9667\n",
      "Epoch 12/20\n",
      "120/120 [==============================] - 0s 4ms/step - loss: 0.1604 - sparse_categorical_accuracy: 0.9833 - val_loss: 0.1864 - val_sparse_categorical_accuracy: 0.9667\n",
      "Epoch 13/20\n",
      "120/120 [==============================] - 0s 4ms/step - loss: 0.1640 - sparse_categorical_accuracy: 0.9417 - val_loss: 0.2139 - val_sparse_categorical_accuracy: 0.9333\n",
      "Epoch 14/20\n",
      "120/120 [==============================] - 0s 4ms/step - loss: 0.1438 - sparse_categorical_accuracy: 0.9583 - val_loss: 0.1860 - val_sparse_categorical_accuracy: 0.9333\n",
      "Epoch 15/20\n",
      "120/120 [==============================] - 0s 4ms/step - loss: 0.1472 - sparse_categorical_accuracy: 0.9750 - val_loss: 0.1629 - val_sparse_categorical_accuracy: 0.9667\n",
      "Epoch 16/20\n",
      "120/120 [==============================] - 1s 4ms/step - loss: 0.1311 - sparse_categorical_accuracy: 0.9833 - val_loss: 0.1834 - val_sparse_categorical_accuracy: 0.9333\n",
      "Epoch 17/20\n",
      "120/120 [==============================] - 0s 4ms/step - loss: 0.1212 - sparse_categorical_accuracy: 0.9667 - val_loss: 0.1522 - val_sparse_categorical_accuracy: 0.9667\n",
      "Epoch 18/20\n",
      "120/120 [==============================] - 0s 4ms/step - loss: 0.1118 - sparse_categorical_accuracy: 0.9750 - val_loss: 0.1499 - val_sparse_categorical_accuracy: 0.9333\n",
      "Epoch 19/20\n",
      "120/120 [==============================] - 0s 4ms/step - loss: 0.1125 - sparse_categorical_accuracy: 0.9750 - val_loss: 0.1919 - val_sparse_categorical_accuracy: 0.9333\n",
      "Epoch 20/20\n",
      "120/120 [==============================] - 0s 4ms/step - loss: 0.1031 - sparse_categorical_accuracy: 0.9750 - val_loss: 0.1414 - val_sparse_categorical_accuracy: 0.9333\n"
     ]
    }
   ],
   "source": [
    "epoch = 20\n",
    "history = base_model.fit(\n",
    "    train_data,\n",
    "    epochs = epoch,\n",
    "    validation_data = valid_data\n",
    ")"
   ]
  },
  {
   "cell_type": "code",
   "execution_count": 82,
   "metadata": {},
   "outputs": [
    {
     "data": {
      "image/png": "[encoded data removed]",
      "text/plain": [
       "<Figure size 1152x648 with 1 Axes>"
      ]
     },
     "metadata": {},
     "output_type": "display_data"
    }
   ],
   "source": [
    "plt.figure(figsize=(16, 9))\n",
    "plt.plot(range(epoch), history.history['loss'], label='Train-Loss')\n",
    "plt.plot(range(epoch), history.history['val_loss'], label='Valid-Loss')\n",
    "plt.xlabel('epochs', fontsize=16)\n",
    "plt.ylabel('loss', fontsize=16)\n",
    "plt.legend(loc=0, fontsize=16)\n",
    "plt.title('Train and Valid Loss', fontsize=20)\n",
    "plt.show()"
   ]
  },
  {
   "cell_type": "code",
   "execution_count": null,
   "metadata": {},
   "outputs": [],
   "source": []
  }
 ],
 "metadata": {
  "kernelspec": {
   "display_name": "Python 3",
   "language": "python",
   "name": "python3"
  },
  "language_info": {
   "codemirror_mode": {
    "name": "ipython",
    "version": 3
   },
   "file_extension": ".py",
   "mimetype": "text/x-python",
   "name": "python",
   "nbconvert_exporter": "python",
   "pygments_lexer": "ipython3",
   "version": "3.6.5"
  }
 },
 "nbformat": 4,
 "nbformat_minor": 2
}
